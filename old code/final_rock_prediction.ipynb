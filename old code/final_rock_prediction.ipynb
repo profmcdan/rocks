{
 "cells": [
  {
   "cell_type": "code",
   "execution_count": 1,
   "metadata": {},
   "outputs": [
    {
     "name": "stderr",
     "output_type": "stream",
     "text": [
      "C:\\Users\\USER\\Anaconda3\\lib\\site-packages\\h5py\\__init__.py:34: FutureWarning: Conversion of the second argument of issubdtype from `float` to `np.floating` is deprecated. In future, it will be treated as `np.float64 == np.dtype(float).type`.\n",
      "  from ._conv import register_converters as _register_converters\n"
     ]
    },
    {
     "name": "stdout",
     "output_type": "stream",
     "text": [
      "1.8.0\n"
     ]
    }
   ],
   "source": [
    "from __future__ import absolute_import, division, print_function\n",
    "\n",
    "import tensorflow as tf\n",
    "from tensorflow import keras\n",
    "\n",
    "import numpy as np\n",
    "\n",
    "print(tf.__version__)"
   ]
  },
  {
   "cell_type": "code",
   "execution_count": 9,
   "metadata": {},
   "outputs": [],
   "source": [
    "dataset = np.loadtxt(\"DataNN_formatted.csv\", delimiter=\",\")\n",
    "# split into input (X) and output (Y) variables\n",
    "train_data = dataset[:,0:16]\n",
    "train_labels = dataset[:,16]"
   ]
  },
  {
   "cell_type": "code",
   "execution_count": 12,
   "metadata": {},
   "outputs": [
    {
     "name": "stdout",
     "output_type": "stream",
     "text": [
      "Training set: (9, 16)\n"
     ]
    }
   ],
   "source": [
    "print(\"Training set: {}\".format(train_data.shape))  # 9 examples, 16 features\n",
    "# print(\"Testing set:  {}\".format(test_data.shape))   # 102 examples, 13 features"
   ]
  },
  {
   "cell_type": "raw",
   "metadata": {},
   "source": [
    "The dataset contains 13 different features:\n",
    "\n",
    "Compressive Strength MPa.\n",
    "Aggregate Crushing Value.\n",
    "Specific Gravity.\n",
    "Water Absorption.\n",
    "Point Load.\n",
    "Brittleness Value.\n",
    "Siever J (SJ) Value.\n",
    "Density.\n",
    "Location.\n",
    "Dynamic Young Modulus.\n",
    "Dynamic Shear Modulus.\n",
    "P – Wave Velocity (m/s).\n",
    "S – Wave Velocity (m/s).\n",
    "Poission’s Ratio (V).\n",
    "Rock Hardness (f).\n",
    "Drilling Rate Index (DRI).\n",
    "\n",
    "\n",
    "Each one of these input data features is stored using a different scale. Some features are represented by a proportion between 0 and 1, other features are ranges between 1 and 12, some are ranges between 0 and 100, and so on. This is often the case with real-world data, and understanding how to explore and clean such data is an important skill to develop.\n",
    "\n",
    "Key Point: As a modeler and developer, think about how this data is used and the potential benefits and harm a model's predictions can cause. A model like this could reinforce societal biases and disparities. Is a feature relevant to the problem you want to solve or will it introduce bias? For more information, read about ML fairness."
   ]
  },
  {
   "cell_type": "code",
   "execution_count": 13,
   "metadata": {},
   "outputs": [
    {
     "name": "stdout",
     "output_type": "stream",
     "text": [
      "[0.000e+00 1.000e+00 5.900e+01 2.540e+01 2.692e+00 3.300e-01 8.220e+00\n",
      " 3.443e+01 5.800e-01 2.685e+00 2.490e+01 9.700e+00 3.425e+03 1.898e+03\n",
      " 2.800e-01 5.900e+00]\n"
     ]
    }
   ],
   "source": [
    "print(train_data[0])  # Display sample features, notice the different scales"
   ]
  },
  {
   "cell_type": "code",
   "execution_count": 18,
   "metadata": {},
   "outputs": [
    {
     "data": {
      "text/html": [
       "<div>\n",
       "<style>\n",
       "    .dataframe thead tr:only-child th {\n",
       "        text-align: right;\n",
       "    }\n",
       "\n",
       "    .dataframe thead th {\n",
       "        text-align: left;\n",
       "    }\n",
       "\n",
       "    .dataframe tbody tr th {\n",
       "        vertical-align: top;\n",
       "    }\n",
       "</style>\n",
       "<table border=\"1\" class=\"dataframe\">\n",
       "  <thead>\n",
       "    <tr style=\"text-align: right;\">\n",
       "      <th></th>\n",
       "      <th>0</th>\n",
       "      <th>1</th>\n",
       "      <th>2</th>\n",
       "      <th>3</th>\n",
       "      <th>4</th>\n",
       "      <th>5</th>\n",
       "      <th>6</th>\n",
       "      <th>7</th>\n",
       "      <th>8</th>\n",
       "      <th>9</th>\n",
       "      <th>10</th>\n",
       "      <th>11</th>\n",
       "      <th>12</th>\n",
       "      <th>13</th>\n",
       "      <th>14</th>\n",
       "      <th>15</th>\n",
       "    </tr>\n",
       "  </thead>\n",
       "  <tbody>\n",
       "    <tr>\n",
       "      <th>0</th>\n",
       "      <td>0.0</td>\n",
       "      <td>1.0</td>\n",
       "      <td>59.0</td>\n",
       "      <td>25.4</td>\n",
       "      <td>2.692</td>\n",
       "      <td>0.33</td>\n",
       "      <td>8.22</td>\n",
       "      <td>34.43</td>\n",
       "      <td>0.58</td>\n",
       "      <td>2.685</td>\n",
       "      <td>24.9</td>\n",
       "      <td>9.7</td>\n",
       "      <td>3425.0</td>\n",
       "      <td>1898.0</td>\n",
       "      <td>0.28</td>\n",
       "      <td>5.90</td>\n",
       "    </tr>\n",
       "    <tr>\n",
       "      <th>1</th>\n",
       "      <td>0.0</td>\n",
       "      <td>1.0</td>\n",
       "      <td>126.6</td>\n",
       "      <td>25.1</td>\n",
       "      <td>2.649</td>\n",
       "      <td>0.38</td>\n",
       "      <td>6.75</td>\n",
       "      <td>49.78</td>\n",
       "      <td>0.67</td>\n",
       "      <td>2.710</td>\n",
       "      <td>42.1</td>\n",
       "      <td>16.4</td>\n",
       "      <td>4536.0</td>\n",
       "      <td>2486.0</td>\n",
       "      <td>0.29</td>\n",
       "      <td>12.66</td>\n",
       "    </tr>\n",
       "    <tr>\n",
       "      <th>2</th>\n",
       "      <td>1.0</td>\n",
       "      <td>2.0</td>\n",
       "      <td>124.5</td>\n",
       "      <td>27.8</td>\n",
       "      <td>2.691</td>\n",
       "      <td>0.34</td>\n",
       "      <td>7.65</td>\n",
       "      <td>78.23</td>\n",
       "      <td>0.67</td>\n",
       "      <td>2.863</td>\n",
       "      <td>25.0</td>\n",
       "      <td>10.3</td>\n",
       "      <td>3251.0</td>\n",
       "      <td>1969.0</td>\n",
       "      <td>0.21</td>\n",
       "      <td>12.45</td>\n",
       "    </tr>\n",
       "    <tr>\n",
       "      <th>3</th>\n",
       "      <td>1.0</td>\n",
       "      <td>0.0</td>\n",
       "      <td>91.7</td>\n",
       "      <td>31.2</td>\n",
       "      <td>2.641</td>\n",
       "      <td>0.33</td>\n",
       "      <td>5.60</td>\n",
       "      <td>81.54</td>\n",
       "      <td>0.70</td>\n",
       "      <td>2.734</td>\n",
       "      <td>16.7</td>\n",
       "      <td>7.0</td>\n",
       "      <td>2641.0</td>\n",
       "      <td>1637.0</td>\n",
       "      <td>0.19</td>\n",
       "      <td>9.17</td>\n",
       "    </tr>\n",
       "    <tr>\n",
       "      <th>4</th>\n",
       "      <td>1.0</td>\n",
       "      <td>0.0</td>\n",
       "      <td>174.4</td>\n",
       "      <td>20.2</td>\n",
       "      <td>2.661</td>\n",
       "      <td>0.32</td>\n",
       "      <td>8.51</td>\n",
       "      <td>55.41</td>\n",
       "      <td>0.67</td>\n",
       "      <td>2.758</td>\n",
       "      <td>47.7</td>\n",
       "      <td>18.1</td>\n",
       "      <td>5045.0</td>\n",
       "      <td>2618.0</td>\n",
       "      <td>0.32</td>\n",
       "      <td>17.44</td>\n",
       "    </tr>\n",
       "  </tbody>\n",
       "</table>\n",
       "</div>"
      ],
      "text/plain": [
       "    0    1      2     3      4     5     6      7     8      9     10    11  \\\n",
       "0  0.0  1.0   59.0  25.4  2.692  0.33  8.22  34.43  0.58  2.685  24.9   9.7   \n",
       "1  0.0  1.0  126.6  25.1  2.649  0.38  6.75  49.78  0.67  2.710  42.1  16.4   \n",
       "2  1.0  2.0  124.5  27.8  2.691  0.34  7.65  78.23  0.67  2.863  25.0  10.3   \n",
       "3  1.0  0.0   91.7  31.2  2.641  0.33  5.60  81.54  0.70  2.734  16.7   7.0   \n",
       "4  1.0  0.0  174.4  20.2  2.661  0.32  8.51  55.41  0.67  2.758  47.7  18.1   \n",
       "\n",
       "       12      13    14     15  \n",
       "0  3425.0  1898.0  0.28   5.90  \n",
       "1  4536.0  2486.0  0.29  12.66  \n",
       "2  3251.0  1969.0  0.21  12.45  \n",
       "3  2641.0  1637.0  0.19   9.17  \n",
       "4  5045.0  2618.0  0.32  17.44  "
      ]
     },
     "execution_count": 18,
     "metadata": {},
     "output_type": "execute_result"
    }
   ],
   "source": [
    "import pandas as pd\n",
    "\n",
    "column_names = ['Compressive Strength MPa', 'Aggregate Crushing Value', 'Specific Gravity', 'Water Absorption', 'Point Load', 'Brittleness Value', 'Siever J (SJ) Value', 'Density', 'Location',\n",
    "                'Dynamic Young Modulus', 'Dynamic Shear Modulus', 'P – Wave Velocity (m/s)', 'S – Wave Velocity (m/s)', 'Poission’s Ratio (V)'\n",
    "               'Rock Hardness (f)', 'Drilling Rate Index (DRI)'], \n",
    "\n",
    "# df = pd.DataFrame(train_data, columns=column_names)\n",
    "df = pd.DataFrame(train_data)\n",
    "df.head()"
   ]
  },
  {
   "cell_type": "code",
   "execution_count": 19,
   "metadata": {},
   "outputs": [
    {
     "name": "stdout",
     "output_type": "stream",
     "text": [
      "[22. 35. 59. 65. 38. 45. 52. 44. 47.]\n"
     ]
    }
   ],
   "source": [
    "print(train_labels[0:10])"
   ]
  },
  {
   "cell_type": "markdown",
   "metadata": {},
   "source": [
    "## Normalize features¶\n",
    "It's recommended to normalize features that use different scales and ranges. For each feature, subtract the mean of the feature and divide by the standard deviation:"
   ]
  },
  {
   "cell_type": "code",
   "execution_count": 21,
   "metadata": {},
   "outputs": [
    {
     "name": "stdout",
     "output_type": "stream",
     "text": [
      "[-1.87082869 -0.52128604 -1.0496751  -0.23553942  0.94001739  0.22454436\n",
      "  0.71772342 -2.02990742 -1.69371093 -0.61261274 -0.99453877 -1.10927349\n",
      " -0.75672197 -1.10328381  0.51812776 -1.0496751 ]\n"
     ]
    }
   ],
   "source": [
    "# Test data is *not* used when calculating the mean and std\n",
    "test_data = train_data\n",
    "\n",
    "mean = train_data.mean(axis=0)\n",
    "std = train_data.std(axis=0)\n",
    "train_data = (train_data - mean) / std\n",
    "test_data = (test_data - mean) / std\n",
    "\n",
    "print(train_data[0])  # First training sample, normalized"
   ]
  },
  {
   "cell_type": "markdown",
   "metadata": {},
   "source": [
    "Although the model might converge without feature normalization, it makes training more difficult, and it makes the resulting model more dependent on the choice of units used in the input.\n",
    "\n",
    "## Create the model\n",
    "Let's build our model. Here, we'll use a Sequential model with two densely connected hidden layers, and an output layer that returns a single, continuous value. The model building steps are wrapped in a function, build_model, since we'll create a second model, later on."
   ]
  },
  {
   "cell_type": "code",
   "execution_count": 22,
   "metadata": {},
   "outputs": [
    {
     "name": "stdout",
     "output_type": "stream",
     "text": [
      "_________________________________________________________________\n",
      "Layer (type)                 Output Shape              Param #   \n",
      "=================================================================\n",
      "dense_1 (Dense)              (None, 64)                1088      \n",
      "_________________________________________________________________\n",
      "dense_2 (Dense)              (None, 64)                4160      \n",
      "_________________________________________________________________\n",
      "dense_3 (Dense)              (None, 1)                 65        \n",
      "=================================================================\n",
      "Total params: 5,313\n",
      "Trainable params: 5,313\n",
      "Non-trainable params: 0\n",
      "_________________________________________________________________\n"
     ]
    }
   ],
   "source": [
    "def build_model():\n",
    "  model = keras.Sequential([\n",
    "    keras.layers.Dense(64, activation=tf.nn.relu,\n",
    "                       input_shape=(train_data.shape[1],)),\n",
    "    keras.layers.Dense(64, activation=tf.nn.relu),\n",
    "    keras.layers.Dense(1)\n",
    "  ])\n",
    "\n",
    "  optimizer = tf.train.RMSPropOptimizer(0.001)\n",
    "\n",
    "  model.compile(loss='mse',\n",
    "                optimizer=optimizer,\n",
    "                metrics=['mae'])\n",
    "  return model\n",
    "\n",
    "model = build_model()\n",
    "model.summary()"
   ]
  },
  {
   "cell_type": "markdown",
   "metadata": {},
   "source": [
    "## Train the model¶\n",
    "The model is trained for 500 epochs, and record the training and validation accuracy in the history object."
   ]
  },
  {
   "cell_type": "code",
   "execution_count": 23,
   "metadata": {},
   "outputs": [
    {
     "name": "stdout",
     "output_type": "stream",
     "text": [
      "\n",
      "....................................................................................................\n",
      "....................................................................................................\n",
      "....................................................................................................\n",
      "....................................................................................................\n",
      "...................................................................................................."
     ]
    }
   ],
   "source": [
    "# Display training progress by printing a single dot for each completed epoch\n",
    "class PrintDot(keras.callbacks.Callback):\n",
    "  def on_epoch_end(self, epoch, logs):\n",
    "    if epoch % 100 == 0: print('')\n",
    "    print('.', end='')\n",
    "\n",
    "EPOCHS = 500\n",
    "\n",
    "# Store training stats\n",
    "history = model.fit(train_data, train_labels, epochs=EPOCHS,\n",
    "                    validation_split=0.2, verbose=0,\n",
    "                    callbacks=[PrintDot()])"
   ]
  },
  {
   "cell_type": "markdown",
   "metadata": {},
   "source": [
    "Visualize the model's training progress using the stats stored in the history object. We want to use this data to determine how long to train before the model stops making progress."
   ]
  },
  {
   "cell_type": "code",
   "execution_count": 26,
   "metadata": {},
   "outputs": [
    {
     "data": {
      "image/png": "[encoded data removed]",
      "text/plain": [
       "<matplotlib.figure.Figure at 0x1901a5a38d0>"
      ]
     },
     "metadata": {},
     "output_type": "display_data"
    }
   ],
   "source": [
    "import matplotlib.pyplot as plt\n",
    "%matplotlib inline\n",
    "\n",
    "\n",
    "def plot_history(history):\n",
    "  plt.figure()\n",
    "  plt.xlabel('Epoch')\n",
    "  plt.ylabel('Mean Abs Error [DRI]')\n",
    "  plt.plot(history.epoch, np.array(history.history['mean_absolute_error']),\n",
    "           label='Train Loss')\n",
    "  plt.plot(history.epoch, np.array(history.history['val_mean_absolute_error']),\n",
    "           label = 'Val loss')\n",
    "  plt.legend()\n",
    "  plt.ylim([0, 5])\n",
    "\n",
    "plot_history(history)"
   ]
  },
  {
   "cell_type": "markdown",
   "metadata": {},
   "source": [
    "\n",
    "This graph shows little improvement in the model after about 200 epochs. Let's update the model.fit method to automatically stop training when the validation score doesn't improve. We'll use a callback that tests a training condition for every epoch. If a set amount of epochs elapses without showing improvement, then automatically stop the training."
   ]
  },
  {
   "cell_type": "code",
   "execution_count": 27,
   "metadata": {},
   "outputs": [
    {
     "name": "stdout",
     "output_type": "stream",
     "text": [
      "\n",
      "....................................................................................................\n",
      "......................................................."
     ]
    },
    {
     "data": {
      "image/png": "[encoded data removed]",
      "text/plain": [
       "<matplotlib.figure.Figure at 0x190014a6f98>"
      ]
     },
     "metadata": {},
     "output_type": "display_data"
    }
   ],
   "source": [
    "\n",
    "model = build_model()\n",
    "\n",
    "# The patience parameter is the amount of epochs to check for improvement\n",
    "early_stop = keras.callbacks.EarlyStopping(monitor='val_loss', patience=20)\n",
    "\n",
    "history = model.fit(train_data, train_labels, epochs=EPOCHS,\n",
    "                    validation_split=0.2, verbose=0,\n",
    "                    callbacks=[early_stop, PrintDot()])\n",
    "\n",
    "plot_history(history)"
   ]
  },
  {
   "cell_type": "markdown",
   "metadata": {},
   "source": [
    "The graph shows the average error is about xx. Is this good? Well, xx is not an insignificant amount when some of the labels are only yy.\n",
    "\n",
    "Let's see how did the model performs on the test set:"
   ]
  },
  {
   "cell_type": "code",
   "execution_count": 30,
   "metadata": {},
   "outputs": [
    {
     "name": "stdout",
     "output_type": "stream",
     "text": [
      "Testing set Mean Abs Error:    5.95\n"
     ]
    }
   ],
   "source": [
    "test_labels = train_labels\n",
    "[loss, mae] = model.evaluate(test_data, test_labels, verbose=0)\n",
    "\n",
    "print(\"Testing set Mean Abs Error: {:7.2f}\".format(mae))"
   ]
  },
  {
   "cell_type": "markdown",
   "metadata": {},
   "source": [
    "## Predict"
   ]
  },
  {
   "cell_type": "code",
   "execution_count": 31,
   "metadata": {},
   "outputs": [
    {
     "data": {
      "image/png": "[encoded data removed]",
      "text/plain": [
       "<matplotlib.figure.Figure at 0x190724bc4a8>"
      ]
     },
     "metadata": {},
     "output_type": "display_data"
    }
   ],
   "source": [
    "\n",
    "test_predictions = model.predict(test_data).flatten()\n",
    "\n",
    "plt.scatter(test_labels, test_predictions)\n",
    "plt.xlabel('True Values [DRI]')\n",
    "plt.ylabel('Predictions [DRI]')\n",
    "plt.axis('equal')\n",
    "plt.xlim(plt.xlim())\n",
    "plt.ylim(plt.ylim())\n",
    "_ = plt.plot([-100, 100], [-100, 100])"
   ]
  },
  {
   "cell_type": "code",
   "execution_count": 32,
   "metadata": {},
   "outputs": [
    {
     "data": {
      "image/png": "[encoded data removed]",
      "text/plain": [
       "<matplotlib.figure.Figure at 0x19072546eb8>"
      ]
     },
     "metadata": {},
     "output_type": "display_data"
    }
   ],
   "source": [
    "error = test_predictions - test_labels\n",
    "plt.hist(error, bins = 50)\n",
    "plt.xlabel(\"Prediction Error [DRI]\")\n",
    "_ = plt.ylabel(\"Count\")"
   ]
  },
  {
   "cell_type": "markdown",
   "metadata": {},
   "source": [
    "\n",
    "## Conclusion\n",
    "This notebook introduced a few techniques to handle a regression problem.\n",
    "\n",
    "Mean Squared Error (MSE) is a common loss function used for regression problems (different than classification problems).\n",
    "Similarly, evaluation metrics used for regression differ from classification. A common regression metric is Mean Absolute Error (MAE).\n",
    "When input data features have values with different ranges, each feature should be scaled independently.\n",
    "If there is not much training data, prefer a small network with few hidden layers to avoid overfitting.\n",
    "Early stopping is a useful technique to prevent overfitting."
   ]
  }
 ],
 "metadata": {
  "kernelspec": {
   "display_name": "Python 3",
   "language": "python",
   "name": "python3"
  },
  "language_info": {
   "codemirror_mode": {
    "name": "ipython",
    "version": 3
   },
   "file_extension": ".py",
   "mimetype": "text/x-python",
   "name": "python",
   "nbconvert_exporter": "python",
   "pygments_lexer": "ipython3",
   "version": "3.6.3"
  }
 },
 "nbformat": 4,
 "nbformat_minor": 2
}
